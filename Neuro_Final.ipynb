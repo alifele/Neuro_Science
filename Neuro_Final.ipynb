{
  "nbformat": 4,
  "nbformat_minor": 0,
  "metadata": {
    "colab": {
      "name": "Neuro_Final.ipynb",
      "version": "0.3.2",
      "provenance": [],
      "include_colab_link": true
    },
    "kernelspec": {
      "name": "python3",
      "display_name": "Python 3"
    }
  },
  "cells": [
    {
      "cell_type": "markdown",
      "metadata": {
        "id": "view-in-github",
        "colab_type": "text"
      },
      "source": [
        "<a href=\"https://colab.research.google.com/github/alifele/Neuro_Science/blob/master/Neuro_Final.ipynb\" target=\"_parent\"><img src=\"https://colab.research.google.com/assets/colab-badge.svg\" alt=\"Open In Colab\"/></a>"
      ]
    },
    {
      "cell_type": "code",
      "metadata": {
        "id": "2SYyV-19Ald1",
        "colab_type": "code",
        "colab": {}
      },
      "source": [
        "import numpy as np"
      ],
      "execution_count": 0,
      "outputs": []
    },
    {
      "cell_type": "code",
      "metadata": {
        "id": "2Vcs6q6lAqPs",
        "colab_type": "code",
        "colab": {
          "base_uri": "https://localhost:8080/",
          "height": 125
        },
        "outputId": "77618f59-7eb0-4504-bacd-ca5c7b1d7e2c"
      },
      "source": [
        "# Run this cell to mount your Google Drive.\n",
        "from google.colab import drive\n",
        "drive.mount('/content/drive')"
      ],
      "execution_count": 1,
      "outputs": [
        {
          "output_type": "stream",
          "text": [
            "Go to this URL in a browser: https://accounts.google.com/o/oauth2/auth?client_id=947318989803-6bn6qk8qdgf4n4g3pfee6491hc0brc4i.apps.googleusercontent.com&redirect_uri=urn%3Aietf%3Awg%3Aoauth%3A2.0%3Aoob&scope=email%20https%3A%2F%2Fwww.googleapis.com%2Fauth%2Fdocs.test%20https%3A%2F%2Fwww.googleapis.com%2Fauth%2Fdrive%20https%3A%2F%2Fwww.googleapis.com%2Fauth%2Fdrive.photos.readonly%20https%3A%2F%2Fwww.googleapis.com%2Fauth%2Fpeopleapi.readonly&response_type=code\n",
            "\n",
            "Enter your authorization code:\n",
            "··········\n",
            "Mounted at /content/drive\n"
          ],
          "name": "stdout"
        }
      ]
    },
    {
      "cell_type": "code",
      "metadata": {
        "id": "fZL8AGm_AstY",
        "colab_type": "code",
        "colab": {
          "base_uri": "https://localhost:8080/",
          "height": 34
        },
        "outputId": "1f94d346-a376-4b7c-d257-d20407c87ea3"
      },
      "source": [
        "% ls"
      ],
      "execution_count": 2,
      "outputs": [
        {
          "output_type": "stream",
          "text": [
            "\u001b[0m\u001b[01;34mdrive\u001b[0m/  \u001b[01;34msample_data\u001b[0m/\n"
          ],
          "name": "stdout"
        }
      ]
    },
    {
      "cell_type": "code",
      "metadata": {
        "id": "y3AgvtMJHzPF",
        "colab_type": "code",
        "colab": {
          "base_uri": "https://localhost:8080/",
          "height": 532
        },
        "outputId": "2c07f59a-2e7a-4803-c2b4-7f641a878d8d"
      },
      "source": [
        "% cd 'My Drive'\n",
        "% ls"
      ],
      "execution_count": 5,
      "outputs": [
        {
          "output_type": "stream",
          "text": [
            "/content/drive/My Drive\n",
            "'ALI FELE PARANJ.pdf'\n",
            "\u001b[0m\u001b[01;34m'apply for cern (with help of GOD)'\u001b[0m/\n",
            " arr_0.npy\n",
            " arr_1.npy\n",
            "'assignment_4 - ali fele.ipynb'\n",
            " assignment_4.ipynb\n",
            "'Assignment_5 - ali fele.ipynb'\n",
            " Assignment_5.ipynb\n",
            "'Booking form Summer Students Non-Member States 2019 (1).gdoc'\n",
            "'Booking form Summer Students Non-Member States 2019.gdoc'\n",
            " \u001b[01;34mBOOKS\u001b[0m/\n",
            "\u001b[01;34m'CERN Application doc'\u001b[0m/\n",
            " \u001b[01;34mCheat_Sheets\u001b[0m/\n",
            " \u001b[01;34mClassroom\u001b[0m/\n",
            "\u001b[01;34m'Colab Notebooks'\u001b[0m/\n",
            "'Copy_of_First_Assignment - ali fele.ipynb'\n",
            " Copy_of_First_Assignment.ipynb\n",
            " dataset_train.xlsx\n",
            " I-V.xlsx\n",
            "\u001b[01;34m'MUSIC AND VIDEOS'\u001b[0m/\n",
            " myfile.txt\n",
            "\u001b[01;34m'Pulsatile Heart pump'\u001b[0m/\n",
            " Untitled0.ipynb\n",
            " Untitled22.ipynb\n",
            "'Untitled23 (1).ipynb'\n",
            "'Untitled document (1).gdoc'\n",
            "'Untitled document.gdoc'\n",
            "'Untitled form.gform'\n"
          ],
          "name": "stdout"
        }
      ]
    },
    {
      "cell_type": "code",
      "metadata": {
        "id": "DF3zmRtfICgv",
        "colab_type": "code",
        "colab": {
          "base_uri": "https://localhost:8080/",
          "height": 34
        },
        "outputId": "a22525fe-d51a-4d78-a014-c5da1ce887a8"
      },
      "source": [
        "Data = np.load('arr_0.npy')\n",
        "tar = np.load('arr_1.npy')\n",
        "y = tar[2,:]\n",
        "y.shape"
      ],
      "execution_count": 14,
      "outputs": [
        {
          "output_type": "execute_result",
          "data": {
            "text/plain": [
              "(4802,)"
            ]
          },
          "metadata": {
            "tags": []
          },
          "execution_count": 14
        }
      ]
    },
    {
      "cell_type": "code",
      "metadata": {
        "id": "I6L4PzpqIdcn",
        "colab_type": "code",
        "colab": {
          "base_uri": "https://localhost:8080/",
          "height": 52
        },
        "outputId": "4d7290e8-8976-428e-8a6e-94b3fa07a934"
      },
      "source": [
        "print('the shape of X is : {}'.format(Data.shape))\n",
        "print('the shape of y is : {}'.format(y.shape))"
      ],
      "execution_count": 15,
      "outputs": [
        {
          "output_type": "stream",
          "text": [
            "the shape of X is : (4802, 1300)\n",
            "the shape of y is : (4802,)\n"
          ],
          "name": "stdout"
        }
      ]
    },
    {
      "cell_type": "code",
      "metadata": {
        "id": "WOuEeoI2IfaE",
        "colab_type": "code",
        "colab": {}
      },
      "source": [
        "import numpy as np\n",
        "import matplotlib.pyplot as plt\n",
        "import io, requests\n",
        "import pandas as pd"
      ],
      "execution_count": 0,
      "outputs": []
    },
    {
      "cell_type": "code",
      "metadata": {
        "id": "8-RGmzcmJ7J4",
        "colab_type": "code",
        "colab": {
          "base_uri": "https://localhost:8080/",
          "height": 632
        },
        "outputId": "f5116273-c846-4f7c-ee80-0f2990287853"
      },
      "source": [
        "X = Data\n",
        "from sklearn.decomposition import PCA\n",
        "n = 60\n",
        "pca = PCA(n)\n",
        "pca.fit(X)\n",
        "pca_data = pca.transform(X)\n",
        "per_var = np.round(pca.explained_variance_ratio_ * 100, decimals=1)\n",
        "labels = [\"PC\" + str(i) for i in range (1,len(per_var)+1)]\n",
        "fig = plt.figure(figsize = (30,10))\n",
        "ax = fig.add_subplot(111)\n",
        "ax.bar(x=range(1,len(per_var)+1),height=per_var,tick_label=labels)"
      ],
      "execution_count": 21,
      "outputs": [
        {
          "output_type": "execute_result",
          "data": {
            "text/plain": [
              "<BarContainer object of 60 artists>"
            ]
          },
          "metadata": {
            "tags": []
          },
          "execution_count": 21
        },
        {
          "output_type": "display_data",
          "data": {
            "image/png": "[encoded data removed]",
            "text/plain": [
              "<Figure size 2160x720 with 1 Axes>"
            ]
          },
          "metadata": {
            "tags": []
          }
        }
      ]
    },
    {
      "cell_type": "code",
      "metadata": {
        "id": "U1A3Ir9HK-UO",
        "colab_type": "code",
        "colab": {
          "base_uri": "https://localhost:8080/",
          "height": 34
        },
        "outputId": "5edc35c8-116f-40aa-9a2f-0a60a8e5ea48"
      },
      "source": [
        "n_pca = 35\n",
        "pca = PCA(n_pca)\n",
        "pca.fit(X)\n",
        "pca_features = pca.transform(X)\n",
        "print('the shape of pca_featuers is : {}'.format(pca_features.shape))"
      ],
      "execution_count": 22,
      "outputs": [
        {
          "output_type": "stream",
          "text": [
            "the shape of pca_featuers is : (4802, 35)\n"
          ],
          "name": "stdout"
        }
      ]
    },
    {
      "cell_type": "code",
      "metadata": {
        "id": "YoksFONhNJpj",
        "colab_type": "code",
        "colab": {}
      },
      "source": [
        "pcaed_X = pca_features"
      ],
      "execution_count": 0,
      "outputs": []
    },
    {
      "cell_type": "code",
      "metadata": {
        "id": "1YZPVzLXNTqg",
        "colab_type": "code",
        "colab": {}
      },
      "source": [
        "from sklearn.model_selection import train_test_split\n",
        "X_train, X_test, Y_train, Y_test = train_test_split(pcaed_X, y, shuffle=True)"
      ],
      "execution_count": 0,
      "outputs": []
    },
    {
      "cell_type": "markdown",
      "metadata": {
        "id": "ya2EYZ9-NpzN",
        "colab_type": "text"
      },
      "source": [
        "#Implementing Machine Learning Classification Algorithms"
      ]
    },
    {
      "cell_type": "code",
      "metadata": {
        "id": "2dEMDai6NbXB",
        "colab_type": "code",
        "colab": {}
      },
      "source": [
        "from sklearn import svm\n",
        "from sklearn.model_selection import train_test_split\n",
        "from sklearn.preprocessing import StandardScaler\n",
        "from sklearn.linear_model import SGDClassifier\n",
        "from sklearn.svm import SVC\n",
        "from sklearn.tree import DecisionTreeClassifier\n",
        "from sklearn.neighbors import KNeighborsClassifier\n",
        "from sklearn.naive_bayes import GaussianNB\n",
        "from sklearn.metrics import confusion_matrix"
      ],
      "execution_count": 0,
      "outputs": []
    },
    {
      "cell_type": "markdown",
      "metadata": {
        "id": "fJMiMnA9NvpK",
        "colab_type": "text"
      },
      "source": [
        "##Support Vector Machine"
      ]
    },
    {
      "cell_type": "code",
      "metadata": {
        "id": "x-cEe_tFNsq6",
        "colab_type": "code",
        "colab": {
          "base_uri": "https://localhost:8080/",
          "height": 90
        },
        "outputId": "41296b6f-4ccc-4c73-a134-9a5cb8068577"
      },
      "source": [
        "svc_clf = SVC()\n",
        "svc_clf.fit(X_train,Y_train)\n",
        "print(\"The accurace of the SVM classifier is: {}\".format( svc_clf.score(X_test,Y_test) ) )\n",
        "# print(\"The coeeficients of the best fit are: {} and the intercept is:{} \".format( svc_clf.coef_, svc_clf.intercept_ ) )"
      ],
      "execution_count": 28,
      "outputs": [
        {
          "output_type": "stream",
          "text": [
            "/usr/local/lib/python3.6/dist-packages/sklearn/svm/base.py:193: FutureWarning: The default value of gamma will change from 'auto' to 'scale' in version 0.22 to account better for unscaled features. Set gamma explicitly to 'auto' or 'scale' to avoid this warning.\n",
            "  \"avoid this warning.\", FutureWarning)\n"
          ],
          "name": "stderr"
        },
        {
          "output_type": "stream",
          "text": [
            "The accurace of the SVM classifier is: 0.829308909242298\n"
          ],
          "name": "stdout"
        }
      ]
    },
    {
      "cell_type": "code",
      "metadata": {
        "id": "og2Oc-7HNzOV",
        "colab_type": "code",
        "colab": {
          "base_uri": "https://localhost:8080/",
          "height": 87
        },
        "outputId": "9d9bb3c6-c618-4bf9-971d-23740b36b889"
      },
      "source": [
        "Y_predict_SVM = svc_clf.predict(X_test)\n",
        "cnfmatrix_SVM = confusion_matrix(Y_test,Y_predict_SVM)\n",
        "print(cnfmatrix_SVM)"
      ],
      "execution_count": 29,
      "outputs": [
        {
          "output_type": "stream",
          "text": [
            "[[ 38   0  69   6]\n",
            " [  0 348   0 110]\n",
            " [  6   0 114  14]\n",
            " [  0   0   0 496]]\n"
          ],
          "name": "stdout"
        }
      ]
    },
    {
      "cell_type": "markdown",
      "metadata": {
        "id": "myNc6fepN84B",
        "colab_type": "text"
      },
      "source": [
        "##K Nearst Neigbors Classifier"
      ]
    },
    {
      "cell_type": "code",
      "metadata": {
        "id": "ZvGQnyacN4Cg",
        "colab_type": "code",
        "colab": {
          "base_uri": "https://localhost:8080/",
          "height": 34
        },
        "outputId": "14a43f17-9467-4aa7-8c75-f78d89157e25"
      },
      "source": [
        "knn_clf = KNeighborsClassifier()\n",
        "knn_clf.fit(X_train,Y_train)\n",
        "print(\"The accuracy of the knn classifier is: {}\".format( knn_clf.score(X_test,Y_test) ) )"
      ],
      "execution_count": 30,
      "outputs": [
        {
          "output_type": "stream",
          "text": [
            "The accuracy of the knn classifier is: 0.829308909242298\n"
          ],
          "name": "stdout"
        }
      ]
    },
    {
      "cell_type": "code",
      "metadata": {
        "id": "rzGvCtDlOAnX",
        "colab_type": "code",
        "colab": {
          "base_uri": "https://localhost:8080/",
          "height": 87
        },
        "outputId": "40458fe9-2c65-4b19-ced2-3eb709b1120c"
      },
      "source": [
        "Y_predict_KNN = knn_clf.predict(X_test)\n",
        "cnfmatrix_KNN = confusion_matrix(Y_test,Y_predict_KNN)\n",
        "print(cnfmatrix_KNN)"
      ],
      "execution_count": 31,
      "outputs": [
        {
          "output_type": "stream",
          "text": [
            "[[ 43  11  59   0]\n",
            " [  5 451   0   2]\n",
            " [ 17   8  82  27]\n",
            " [  0  73   3 420]]\n"
          ],
          "name": "stdout"
        }
      ]
    },
    {
      "cell_type": "markdown",
      "metadata": {
        "id": "Kr56-7FkOYL9",
        "colab_type": "text"
      },
      "source": [
        "##Decision Tree"
      ]
    },
    {
      "cell_type": "code",
      "metadata": {
        "id": "tQIy_haTODdK",
        "colab_type": "code",
        "colab": {
          "base_uri": "https://localhost:8080/",
          "height": 34
        },
        "outputId": "93b00aaa-159b-405d-bc02-77009643d10a"
      },
      "source": [
        "tree_clf = DecisionTreeClassifier()\n",
        "tree_clf.fit(X_train,Y_train)\n",
        "print(\"The accuracy of the tree classifier is: {}\".format( tree_clf.score(X_test,Y_test) ) )"
      ],
      "execution_count": 32,
      "outputs": [
        {
          "output_type": "stream",
          "text": [
            "The accuracy of the tree classifier is: 0.8967527060782681\n"
          ],
          "name": "stdout"
        }
      ]
    },
    {
      "cell_type": "code",
      "metadata": {
        "id": "PQdW_e-eOdng",
        "colab_type": "code",
        "colab": {
          "base_uri": "https://localhost:8080/",
          "height": 87
        },
        "outputId": "10a52afd-dc53-4356-d449-714391ebf126"
      },
      "source": [
        "Y_predict_tree = tree_clf.predict(X_test)\n",
        "cnfmatrix_tree = confusion_matrix(Y_test,Y_predict_tree)\n",
        "print(cnfmatrix_tree)"
      ],
      "execution_count": 33,
      "outputs": [
        {
          "output_type": "stream",
          "text": [
            "[[ 99   4  10   0]\n",
            " [  0 456   0   2]\n",
            " [ 74   0  48  12]\n",
            " [  0  12  10 474]]\n"
          ],
          "name": "stdout"
        }
      ]
    },
    {
      "cell_type": "markdown",
      "metadata": {
        "id": "ie5qk1UhOm0V",
        "colab_type": "text"
      },
      "source": [
        "##Bayes"
      ]
    },
    {
      "cell_type": "code",
      "metadata": {
        "id": "SRml-rMnOhJN",
        "colab_type": "code",
        "colab": {
          "base_uri": "https://localhost:8080/",
          "height": 34
        },
        "outputId": "589f999e-a941-46c3-d467-30ce2f093615"
      },
      "source": [
        "nb_clf = GaussianNB()\n",
        "nb_clf.fit(X_train,Y_train)\n",
        "print(\"The accuracy of the knn classifier is: {}\".format( nb_clf.score(X_test,Y_test) ) )"
      ],
      "execution_count": 34,
      "outputs": [
        {
          "output_type": "stream",
          "text": [
            "The accuracy of the knn classifier is: 0.6461282264779351\n"
          ],
          "name": "stdout"
        }
      ]
    },
    {
      "cell_type": "code",
      "metadata": {
        "id": "F7HFzWw2Oo0-",
        "colab_type": "code",
        "colab": {
          "base_uri": "https://localhost:8080/",
          "height": 87
        },
        "outputId": "dece62d3-df8d-4af0-8de4-d27cff351ca7"
      },
      "source": [
        "Y_predict_nb = nb_clf.predict(X_test)\n",
        "cnfmatrix_nb = confusion_matrix(Y_test,Y_predict_tree)\n",
        "print(cnfmatrix_nb)"
      ],
      "execution_count": 35,
      "outputs": [
        {
          "output_type": "stream",
          "text": [
            "[[ 99   4  10   0]\n",
            " [  0 456   0   2]\n",
            " [ 74   0  48  12]\n",
            " [  0  12  10 474]]\n"
          ],
          "name": "stdout"
        }
      ]
    },
    {
      "cell_type": "markdown",
      "metadata": {
        "id": "obh0_AoGPHKL",
        "colab_type": "text"
      },
      "source": [
        "##Voting Classifier(Hard voting)"
      ]
    },
    {
      "cell_type": "code",
      "metadata": {
        "id": "Ydk3T4YIOrg-",
        "colab_type": "code",
        "colab": {}
      },
      "source": [
        "from sklearn.ensemble import RandomForestClassifier\n",
        "from sklearn.ensemble import VotingClassifier\n",
        "from sklearn.linear_model import LogisticRegression\n",
        "from sklearn.svm import SVC\n"
      ],
      "execution_count": 0,
      "outputs": []
    },
    {
      "cell_type": "code",
      "metadata": {
        "id": "ItN55jCkPt9U",
        "colab_type": "code",
        "colab": {}
      },
      "source": [
        "log_clf = LogisticRegression()\n",
        "rnd_clf = RandomForestClassifier()\n",
        "svm_clf = SVC()\n",
        "\n"
      ],
      "execution_count": 0,
      "outputs": []
    },
    {
      "cell_type": "code",
      "metadata": {
        "id": "kziVJ-s8P8mI",
        "colab_type": "code",
        "colab": {}
      },
      "source": [
        "voting_clf = VotingClassifier(  estimators = [('lr', log_clf), ('rf', rnd_clf), ('svc', svm_clf)],\n",
        "                              voting='hard')"
      ],
      "execution_count": 0,
      "outputs": []
    },
    {
      "cell_type": "code",
      "metadata": {
        "id": "zUi_eRz1QXbN",
        "colab_type": "code",
        "colab": {
          "base_uri": "https://localhost:8080/",
          "height": 87
        },
        "outputId": "0a86099c-af83-4dc9-9950-840ce29d915e"
      },
      "source": [
        "import warnings\n",
        "warnings.filterwarnings('ignore')\n",
        "from sklearn.metrics import accuracy_score\n",
        "for clf in (log_clf, rnd_clf, svm_clf, voting_clf):\n",
        "  clf.fit(X_train, Y_train)\n",
        "  y_pred = clf.predict(X_test)\n",
        "  print(clf.__class__.__name__, accuracy_score(Y_test, y_pred))"
      ],
      "execution_count": 47,
      "outputs": [
        {
          "output_type": "stream",
          "text": [
            "LogisticRegression 0.7335553705245629\n",
            "RandomForestClassifier 0.922564529558701\n",
            "SVC 0.829308909242298\n",
            "VotingClassifier 0.9050791007493755\n"
          ],
          "name": "stdout"
        }
      ]
    },
    {
      "cell_type": "code",
      "metadata": {
        "id": "zcEcnuapRBXX",
        "colab_type": "code",
        "colab": {
          "base_uri": "https://localhost:8080/",
          "height": 87
        },
        "outputId": "2116da32-8aeb-401b-fa0b-f08aa5a3b80e"
      },
      "source": [
        "Y_predict_nb = voting_clf.predict(X_test)\n",
        "cnfmatrix_nb = confusion_matrix(Y_test,Y_predict_tree)\n",
        "print(cnfmatrix_nb)"
      ],
      "execution_count": 48,
      "outputs": [
        {
          "output_type": "stream",
          "text": [
            "[[ 99   4  10   0]\n",
            " [  0 456   0   2]\n",
            " [ 74   0  48  12]\n",
            " [  0  12  10 474]]\n"
          ],
          "name": "stdout"
        }
      ]
    },
    {
      "cell_type": "markdown",
      "metadata": {
        "id": "awGhNa9ZaaLo",
        "colab_type": "text"
      },
      "source": [
        "##Neural Network"
      ]
    },
    {
      "cell_type": "code",
      "metadata": {
        "id": "14wwoNMsaZbD",
        "colab_type": "code",
        "colab": {
          "base_uri": "https://localhost:8080/",
          "height": 34
        },
        "outputId": "9bc0d02a-c324-4a71-b031-4d522847d499"
      },
      "source": [
        "from tensorflow import keras\n",
        "from keras.layers import Flatten, Dense, Dropout"
      ],
      "execution_count": 50,
      "outputs": [
        {
          "output_type": "stream",
          "text": [
            "Using TensorFlow backend.\n"
          ],
          "name": "stderr"
        }
      ]
    },
    {
      "cell_type": "code",
      "metadata": {
        "id": "ZrBW7WzabB5O",
        "colab_type": "code",
        "colab": {
          "base_uri": "https://localhost:8080/",
          "height": 34
        },
        "outputId": "465c50e4-6f57-4603-fc67-e5bcad0bca3e"
      },
      "source": [
        "X_Train, X_Test, Y_Train, Y_Test = train_test_split(X,y)\n",
        "X_Train.shape"
      ],
      "execution_count": 53,
      "outputs": [
        {
          "output_type": "execute_result",
          "data": {
            "text/plain": [
              "(3601, 1300)"
            ]
          },
          "metadata": {
            "tags": []
          },
          "execution_count": 53
        }
      ]
    },
    {
      "cell_type": "code",
      "metadata": {
        "id": "1g-70nA-THdr",
        "colab_type": "code",
        "colab": {}
      },
      "source": [
        "model = keras.models.Sequential([\n",
        "    keras.layers.Flatten(),\n",
        "    keras.layers.Dense(512, activation='relu'),\n",
        "    keras.layers.Dropout(0.2),\n",
        "    keras.layers.Dense(128, activation='relu'),\n",
        "    keras.layers.Dropout(0.2),\n",
        "    keras.layers.Dense(32, activation='relu'),\n",
        "    keras.layers.Dropout(0.2),\n",
        "    keras.layers.Dense(4, activation='relu'),\n",
        "    keras.layers.Dense(4, activation='softmax')\n",
        "    \n",
        "])"
      ],
      "execution_count": 0,
      "outputs": []
    },
    {
      "cell_type": "code",
      "metadata": {
        "id": "DC6oPJ9jdpgr",
        "colab_type": "code",
        "colab": {
          "base_uri": "https://localhost:8080/",
          "height": 443
        },
        "outputId": "fd9ef573-6284-4be0-c28e-0eb9e2086fe3"
      },
      "source": [
        "model.summary()"
      ],
      "execution_count": 66,
      "outputs": [
        {
          "output_type": "stream",
          "text": [
            "Model: \"sequential_7\"\n",
            "_________________________________________________________________\n",
            "Layer (type)                 Output Shape              Param #   \n",
            "=================================================================\n",
            "flatten_1 (Flatten)          (None, 1300)              0         \n",
            "_________________________________________________________________\n",
            "dense_4 (Dense)              (None, 512)               666112    \n",
            "_________________________________________________________________\n",
            "dropout_3 (Dropout)          (None, 512)               0         \n",
            "_________________________________________________________________\n",
            "dense_5 (Dense)              (None, 128)               65664     \n",
            "_________________________________________________________________\n",
            "dropout_4 (Dropout)          (None, 128)               0         \n",
            "_________________________________________________________________\n",
            "dense_6 (Dense)              (None, 32)                4128      \n",
            "_________________________________________________________________\n",
            "dropout_5 (Dropout)          (None, 32)                0         \n",
            "_________________________________________________________________\n",
            "dense_7 (Dense)              (None, 4)                 132       \n",
            "=================================================================\n",
            "Total params: 736,036\n",
            "Trainable params: 736,036\n",
            "Non-trainable params: 0\n",
            "_________________________________________________________________\n"
          ],
          "name": "stdout"
        }
      ]
    },
    {
      "cell_type": "code",
      "metadata": {
        "id": "ucC4IeWcdpMw",
        "colab_type": "code",
        "colab": {}
      },
      "source": [
        "model.compile(loss='sparse_categorical_crossentropy',\n",
        "             optimizer='adam',\n",
        "             metrics=['accuracy'])"
      ],
      "execution_count": 0,
      "outputs": []
    },
    {
      "cell_type": "code",
      "metadata": {
        "id": "AJCMrJ0zbsiC",
        "colab_type": "code",
        "colab": {
          "base_uri": "https://localhost:8080/",
          "height": 336
        },
        "outputId": "00fb50ca-b936-4235-c086-59eb93f31f3a"
      },
      "source": [
        "his = model.fit(X_Train, Y_Train)"
      ],
      "execution_count": 82,
      "outputs": [
        {
          "output_type": "error",
          "ename": "ValueError",
          "evalue": "ignored",
          "traceback": [
            "\u001b[0;31m---------------------------------------------------------------------------\u001b[0m",
            "\u001b[0;31mValueError\u001b[0m                                Traceback (most recent call last)",
            "\u001b[0;32m<ipython-input-82-5b21fc622683>\u001b[0m in \u001b[0;36m<module>\u001b[0;34m()\u001b[0m\n\u001b[0;32m----> 1\u001b[0;31m \u001b[0mhis\u001b[0m \u001b[0;34m=\u001b[0m \u001b[0mmodel\u001b[0m\u001b[0;34m.\u001b[0m\u001b[0mfit\u001b[0m\u001b[0;34m(\u001b[0m\u001b[0mX_Train\u001b[0m\u001b[0;34m,\u001b[0m \u001b[0mY_Train\u001b[0m\u001b[0;34m)\u001b[0m\u001b[0;34m\u001b[0m\u001b[0;34m\u001b[0m\u001b[0m\n\u001b[0m",
            "\u001b[0;32m/usr/local/lib/python3.6/dist-packages/tensorflow/python/keras/engine/training.py\u001b[0m in \u001b[0;36mfit\u001b[0;34m(self, x, y, batch_size, epochs, verbose, callbacks, validation_split, validation_data, shuffle, class_weight, sample_weight, initial_epoch, steps_per_epoch, validation_steps, validation_freq, max_queue_size, workers, use_multiprocessing, **kwargs)\u001b[0m\n\u001b[1;32m    707\u001b[0m         \u001b[0msteps\u001b[0m\u001b[0;34m=\u001b[0m\u001b[0msteps_per_epoch\u001b[0m\u001b[0;34m,\u001b[0m\u001b[0;34m\u001b[0m\u001b[0;34m\u001b[0m\u001b[0m\n\u001b[1;32m    708\u001b[0m         \u001b[0mvalidation_split\u001b[0m\u001b[0;34m=\u001b[0m\u001b[0mvalidation_split\u001b[0m\u001b[0;34m,\u001b[0m\u001b[0;34m\u001b[0m\u001b[0;34m\u001b[0m\u001b[0m\n\u001b[0;32m--> 709\u001b[0;31m         shuffle=shuffle)\n\u001b[0m\u001b[1;32m    710\u001b[0m \u001b[0;34m\u001b[0m\u001b[0m\n\u001b[1;32m    711\u001b[0m     \u001b[0;31m# Prepare validation data.\u001b[0m\u001b[0;34m\u001b[0m\u001b[0;34m\u001b[0m\u001b[0;34m\u001b[0m\u001b[0m\n",
            "\u001b[0;32m/usr/local/lib/python3.6/dist-packages/tensorflow/python/keras/engine/training.py\u001b[0m in \u001b[0;36m_standardize_user_data\u001b[0;34m(self, x, y, sample_weight, class_weight, batch_size, check_steps, steps_name, steps, validation_split, shuffle, extract_tensors_from_dataset)\u001b[0m\n\u001b[1;32m   2671\u001b[0m           \u001b[0mshapes\u001b[0m\u001b[0;34m=\u001b[0m\u001b[0;32mNone\u001b[0m\u001b[0;34m,\u001b[0m\u001b[0;34m\u001b[0m\u001b[0;34m\u001b[0m\u001b[0m\n\u001b[1;32m   2672\u001b[0m           \u001b[0mcheck_batch_axis\u001b[0m\u001b[0;34m=\u001b[0m\u001b[0;32mFalse\u001b[0m\u001b[0;34m,\u001b[0m  \u001b[0;31m# Don't enforce the batch size.\u001b[0m\u001b[0;34m\u001b[0m\u001b[0;34m\u001b[0m\u001b[0m\n\u001b[0;32m-> 2673\u001b[0;31m           exception_prefix='target')\n\u001b[0m\u001b[1;32m   2674\u001b[0m \u001b[0;34m\u001b[0m\u001b[0m\n\u001b[1;32m   2675\u001b[0m       \u001b[0;31m# Generate sample-wise weight values given the `sample_weight` and\u001b[0m\u001b[0;34m\u001b[0m\u001b[0;34m\u001b[0m\u001b[0;34m\u001b[0m\u001b[0m\n",
            "\u001b[0;32m/usr/local/lib/python3.6/dist-packages/tensorflow/python/keras/engine/training_utils.py\u001b[0m in \u001b[0;36mstandardize_input_data\u001b[0;34m(data, names, shapes, check_batch_axis, exception_prefix)\u001b[0m\n\u001b[1;32m    303\u001b[0m       raise ValueError(\n\u001b[1;32m    304\u001b[0m           \u001b[0;34m'Error when checking model '\u001b[0m \u001b[0;34m+\u001b[0m \u001b[0mexception_prefix\u001b[0m \u001b[0;34m+\u001b[0m \u001b[0;34m': '\u001b[0m\u001b[0;34m\u001b[0m\u001b[0;34m\u001b[0m\u001b[0m\n\u001b[0;32m--> 305\u001b[0;31m           'expected no data, but got:', data)\n\u001b[0m\u001b[1;32m    306\u001b[0m     \u001b[0;32mreturn\u001b[0m \u001b[0;34m[\u001b[0m\u001b[0;34m]\u001b[0m\u001b[0;34m\u001b[0m\u001b[0;34m\u001b[0m\u001b[0m\n\u001b[1;32m    307\u001b[0m   \u001b[0;32mif\u001b[0m \u001b[0mdata\u001b[0m \u001b[0;32mis\u001b[0m \u001b[0;32mNone\u001b[0m\u001b[0;34m:\u001b[0m\u001b[0;34m\u001b[0m\u001b[0;34m\u001b[0m\u001b[0m\n",
            "\u001b[0;31mValueError\u001b[0m: ('Error when checking model target: expected no data, but got:', array([4., 2., 3., ..., 1., 2., 4.]))"
          ]
        }
      ]
    },
    {
      "cell_type": "code",
      "metadata": {
        "id": "KXGaTp2xbtW9",
        "colab_type": "code",
        "colab": {
          "base_uri": "https://localhost:8080/",
          "height": 34
        },
        "outputId": "7d02c883-c75d-44b4-8513-0d4baf24c722"
      },
      "source": [
        "Counter(y)"
      ],
      "execution_count": 81,
      "outputs": [
        {
          "output_type": "execute_result",
          "data": {
            "text/plain": [
              "Counter({1.0: 458, 2.0: 1888, 3.0: 488, 4.0: 1968})"
            ]
          },
          "metadata": {
            "tags": []
          },
          "execution_count": 81
        }
      ]
    },
    {
      "cell_type": "code",
      "metadata": {
        "id": "_K63r8abcDHj",
        "colab_type": "code",
        "colab": {
          "base_uri": "https://localhost:8080/",
          "height": 167
        },
        "outputId": "bc3cf804-93c0-4f8c-b8d9-9c551975e368"
      },
      "source": [
        "Y_Train.dtype(int)"
      ],
      "execution_count": 77,
      "outputs": [
        {
          "output_type": "error",
          "ename": "TypeError",
          "evalue": "ignored",
          "traceback": [
            "\u001b[0;31m---------------------------------------------------------------------------\u001b[0m",
            "\u001b[0;31mTypeError\u001b[0m                                 Traceback (most recent call last)",
            "\u001b[0;32m<ipython-input-77-39e95e9d2a38>\u001b[0m in \u001b[0;36m<module>\u001b[0;34m()\u001b[0m\n\u001b[0;32m----> 1\u001b[0;31m \u001b[0mY_Train\u001b[0m\u001b[0;34m.\u001b[0m\u001b[0mdtype\u001b[0m\u001b[0;34m(\u001b[0m\u001b[0mint\u001b[0m\u001b[0;34m)\u001b[0m\u001b[0;34m\u001b[0m\u001b[0;34m\u001b[0m\u001b[0m\n\u001b[0m",
            "\u001b[0;31mTypeError\u001b[0m: 'numpy.dtype' object is not callable"
          ]
        }
      ]
    },
    {
      "cell_type": "code",
      "metadata": {
        "id": "OfgXTQMafvPf",
        "colab_type": "code",
        "colab": {}
      },
      "source": [
        ""
      ],
      "execution_count": 0,
      "outputs": []
    }
  ]
}