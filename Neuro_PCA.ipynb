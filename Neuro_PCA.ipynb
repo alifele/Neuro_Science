{
  "nbformat": 4,
  "nbformat_minor": 0,
  "metadata": {
    "colab": {
      "name": "Neuro_PCA.ipynb",
      "version": "0.3.2",
      "provenance": [],
      "include_colab_link": true
    },
    "kernelspec": {
      "name": "python3",
      "display_name": "Python 3"
    }
  },
  "cells": [
    {
      "cell_type": "markdown",
      "metadata": {
        "id": "view-in-github",
        "colab_type": "text"
      },
      "source": [
        "<a href=\"https://colab.research.google.com/github/alifele/Neuro_Science/blob/master/Neuro_PCA.ipynb\" target=\"_parent\"><img src=\"https://colab.research.google.com/assets/colab-badge.svg\" alt=\"Open In Colab\"/></a>"
      ]
    },
    {
      "metadata": {
        "id": "Gl60TvDFTm0E",
        "colab_type": "code",
        "colab": {}
      },
      "cell_type": "code",
      "source": [
        "import numpy as np\n",
        "import matplotlib.pyplot as plt\n",
        "import io, requests\n",
        "import pandas as pd"
      ],
      "execution_count": 0,
      "outputs": []
    },
    {
      "metadata": {
        "id": "BiuZFQEOUDGX",
        "colab_type": "text"
      },
      "cell_type": "markdown",
      "source": [
        "#Importing Data\n"
      ]
    },
    {
      "metadata": {
        "id": "nS6cI4_OUCao",
        "colab_type": "code",
        "colab": {
          "base_uri": "https://localhost:8080/",
          "height": 34
        },
        "outputId": "5a29c058-f765-4866-eff8-d1e09261030a"
      },
      "cell_type": "code",
      "source": [
        "url= 'https://github.com/alifele/Neuro_Science/raw/master/IF_data.npz'\n",
        "s = requests.get(url, stream = True).content\n",
        "data_X = np.load(io.BytesIO(s))\n",
        "print(data_X.files)"
      ],
      "execution_count": 3,
      "outputs": [
        {
          "output_type": "stream",
          "text": [
            "['arr_0', 'arr_1']\n"
          ],
          "name": "stdout"
        }
      ]
    },
    {
      "metadata": {
        "id": "JgfKFVQ5UtGS",
        "colab_type": "code",
        "colab": {
          "base_uri": "https://localhost:8080/",
          "height": 51
        },
        "outputId": "f3993d8d-47ae-480e-9994-e977fc689055"
      },
      "cell_type": "code",
      "source": [
        "X = data_X ['arr_0']\n",
        "Y = data_X ['arr_1'].T\n",
        "print('the shape of X is : {}'.format(X.shape))\n",
        "print('the shape of Y is : {}'.format(Y.shape))\n"
      ],
      "execution_count": 15,
      "outputs": [
        {
          "output_type": "stream",
          "text": [
            "the shape of X is : (160, 1000)\n",
            "the shape of Y is : (160, 5)\n"
          ],
          "name": "stdout"
        }
      ]
    },
    {
      "metadata": {
        "id": "IV87kD1pVrz9",
        "colab_type": "text"
      },
      "cell_type": "markdown",
      "source": [
        "#Implementing tha PCA methods on X\n",
        "First of all I want to plot the Scree plot of the PCA features"
      ]
    },
    {
      "metadata": {
        "id": "ZdmHCrpMVPj4",
        "colab_type": "code",
        "colab": {
          "base_uri": "https://localhost:8080/",
          "height": 612
        },
        "outputId": "214a9c7d-46bb-4695-edf1-1d2152cd1bfd"
      },
      "cell_type": "code",
      "source": [
        "from sklearn.decomposition import PCA\n",
        "n = 160\n",
        "pca = PCA(n)\n",
        "pca.fit(X)\n",
        "pca_data = pca.transform(X)\n",
        "per_var = np.round(pca.explained_variance_ratio_ * 100, decimals=1)\n",
        "labels = [\"PC\" + str(i) for i in range (1,len(per_var)+1)]\n",
        "fig = plt.figure(figsize = (20,10))\n",
        "ax = fig.add_subplot(111)\n",
        "ax.bar(x=range(1,len(per_var)+1),height=per_var,tick_label=labels)"
      ],
      "execution_count": 21,
      "outputs": [
        {
          "output_type": "execute_result",
          "data": {
            "text/plain": [
              "<BarContainer object of 160 artists>"
            ]
          },
          "metadata": {
            "tags": []
          },
          "execution_count": 21
        },
        {
          "output_type": "display_data",
          "data": {
            "image/png": "[encoded data removed]",
            "text/plain": [
              "<Figure size 1440x720 with 1 Axes>"
            ]
          },
          "metadata": {
            "tags": []
          }
        }
      ]
    },
    {
      "metadata": {
        "id": "Q1m6PlIrYTeR",
        "colab_type": "text"
      },
      "cell_type": "markdown",
      "source": [
        "from the above scree plot we can see that the importance of the pca features decrease significantly afte the about first 16 features.\n",
        "\n",
        "so it is rational to keep the first 16 pca_features"
      ]
    },
    {
      "metadata": {
        "id": "qNLqtm5ZVUDa",
        "colab_type": "code",
        "colab": {
          "base_uri": "https://localhost:8080/",
          "height": 34
        },
        "outputId": "12d75663-7efe-4039-b053-7e00ae8770ee"
      },
      "cell_type": "code",
      "source": [
        "n_pca = 16\n",
        "pca = PCA(n_pca)\n",
        "pca.fit(X)\n",
        "pca_features = pca.transform(X)\n",
        "print('the shape of pca_featuers is : {}'.format(pca_features.shape))"
      ],
      "execution_count": 23,
      "outputs": [
        {
          "output_type": "stream",
          "text": [
            "the shape of pca_featuers is : (160, 16)\n"
          ],
          "name": "stdout"
        }
      ]
    },
    {
      "metadata": {
        "id": "-V-GA9stZsLX",
        "colab_type": "code",
        "colab": {}
      },
      "cell_type": "code",
      "source": [
        ""
      ],
      "execution_count": 0,
      "outputs": []
    }
  ]
}