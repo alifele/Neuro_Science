{
  "nbformat": 4,
  "nbformat_minor": 0,
  "metadata": {
    "colab": {
      "name": "Techniques_with_Bias_and_Variance.ipynb",
      "version": "0.3.2",
      "provenance": [],
      "include_colab_link": true
    },
    "kernelspec": {
      "name": "python3",
      "display_name": "Python 3"
    }
  },
  "cells": [
    {
      "cell_type": "markdown",
      "metadata": {
        "id": "view-in-github",
        "colab_type": "text"
      },
      "source": [
        "<a href=\"https://colab.research.google.com/github/alifele/Neuro_Science/blob/master/Techniques_with_Bias_and_Variance.ipynb\" target=\"_parent\"><img src=\"https://colab.research.google.com/assets/colab-badge.svg\" alt=\"Open In Colab\"/></a>"
      ]
    },
    {
      "cell_type": "markdown",
      "metadata": {
        "id": "7KaWnb8CvRXy",
        "colab_type": "text"
      },
      "source": [
        "# Learning Techniques with Bias and Variance Curve"
      ]
    },
    {
      "cell_type": "markdown",
      "metadata": {
        "id": "fod5SXdZvfAU",
        "colab_type": "text"
      },
      "source": [
        "in this note book i am going to implement some machine learning techniques to classify our neuron networks in 4 different classes"
      ]
    },
    {
      "cell_type": "code",
      "metadata": {
        "id": "STnkcqYyveZ9",
        "colab_type": "code",
        "colab": {}
      },
      "source": [
        "import numpy as np\n",
        "import matplotlib.pyplot as plt\n",
        "import requests\n",
        "import io\n",
        "from tempfile import TemporaryFile\n"
      ],
      "execution_count": 0,
      "outputs": []
    },
    {
      "cell_type": "markdown",
      "metadata": {
        "id": "3HYnjAdYx0P1",
        "colab_type": "text"
      },
      "source": [
        "# Importing Data\n",
        "\n",
        "the data that I am using throght out this note book are the ones that their features has reduced to 16 under PCA method (you can find additional information and relevant notebook on the repository of the project)"
      ]
    },
    {
      "cell_type": "code",
      "metadata": {
        "id": "znq1H5Paxzp8",
        "colab_type": "code",
        "outputId": "dda5c03a-f6f7-4085-d483-b861c9b458b4",
        "colab": {
          "base_uri": "https://localhost:8080/",
          "height": 170
        }
      },
      "source": [
        "!pip install -q xlrd\n",
        "!git clone https://github.com/alifele/Neuro_Science.git\n",
        "!ls Neuro_Science\n",
        "data = np.load('Neuro_Science/DataSet_with_Label.npz')"
      ],
      "execution_count": 2,
      "outputs": [
        {
          "output_type": "stream",
          "text": [
            "Cloning into 'Neuro_Science'...\n",
            "remote: Enumerating objects: 39, done.\u001b[K\n",
            "remote: Counting objects: 100% (39/39), done.\u001b[K\n",
            "remote: Compressing objects: 100% (36/36), done.\u001b[K\n",
            "remote: Total 39 (delta 11), reused 0 (delta 0), pack-reused 0\u001b[K\n",
            "Unpacking objects: 100% (39/39), done.\n",
            "Data.npy\t\tNeuro_PCA.ipynb\n",
            "DataSet_with_Label.npz\tREADME.md\n",
            "IF_data.npz\t\tTechniques_with_Bias_and_Variance.ipynb\n"
          ],
          "name": "stdout"
        }
      ]
    },
    {
      "cell_type": "code",
      "metadata": {
        "id": "2PEuZDZp_MTN",
        "colab_type": "code",
        "outputId": "cf809ede-a3c7-4785-d877-b907beb3a63f",
        "colab": {
          "base_uri": "https://localhost:8080/",
          "height": 68
        }
      },
      "source": [
        "print(data.files)\n",
        "DataSet = data['DataSet']\n",
        "Label = data['Label']\n",
        "print(DataSet.shape)\n",
        "print(Label.shape)"
      ],
      "execution_count": 3,
      "outputs": [
        {
          "output_type": "stream",
          "text": [
            "['DataSet', 'Label']\n",
            "(160, 16)\n",
            "(160,)\n"
          ],
          "name": "stdout"
        }
      ]
    },
    {
      "cell_type": "markdown",
      "metadata": {
        "id": "JUaZ9lZqD9rL",
        "colab_type": "text"
      },
      "source": [
        "# Data Preparation"
      ]
    },
    {
      "cell_type": "code",
      "metadata": {
        "id": "uHf7NqPmEEJO",
        "colab_type": "code",
        "colab": {}
      },
      "source": [
        "from sklearn.model_selection import train_test_split\n",
        "X_train, X_test, Y_train, Y_test = train_test_split(DataSet, Label, shuffle=True)"
      ],
      "execution_count": 0,
      "outputs": []
    },
    {
      "cell_type": "markdown",
      "metadata": {
        "id": "cM3aIngZCEIZ",
        "colab_type": "text"
      },
      "source": [
        "# Implementing Machine Learning Classification Algorithms"
      ]
    },
    {
      "cell_type": "code",
      "metadata": {
        "id": "37oqg4FgKV6L",
        "colab_type": "code",
        "colab": {}
      },
      "source": [
        "from sklearn import svm\n",
        "from sklearn.model_selection import train_test_split\n",
        "from sklearn.preprocessing import StandardScaler\n",
        "from sklearn.linear_model import SGDClassifier\n",
        "from sklearn.svm import SVC\n",
        "from sklearn.tree import DecisionTreeClassifier\n",
        "from sklearn.neighbors import KNeighborsClassifier\n",
        "from sklearn.naive_bayes import GaussianNB\n",
        "from sklearn.metrics import confusion_matrix"
      ],
      "execution_count": 0,
      "outputs": []
    },
    {
      "cell_type": "markdown",
      "metadata": {
        "id": "JOE-XKjrHMtD",
        "colab_type": "text"
      },
      "source": [
        "# * Support Vector Machine Classifier"
      ]
    },
    {
      "cell_type": "code",
      "metadata": {
        "id": "rI3urz20HXVe",
        "colab_type": "code",
        "outputId": "4668ebcc-0a9f-4fa2-9dbb-65dfad3b3324",
        "colab": {
          "base_uri": "https://localhost:8080/",
          "height": 88
        }
      },
      "source": [
        "svc_clf = SVC()\n",
        "svc_clf.fit(X_train,Y_train)\n",
        "print(\"The accurace of the SVM classifier is: {}\".format( svc_clf.score(X_test,Y_test) ) )\n",
        "# print(\"The coeeficients of the best fit are: {} and the intercept is:{} \".format( svc_clf.coef_, svc_clf.intercept_ ) )"
      ],
      "execution_count": 6,
      "outputs": [
        {
          "output_type": "stream",
          "text": [
            "The accurace of the SVM classifier is: 1.0\n"
          ],
          "name": "stdout"
        },
        {
          "output_type": "stream",
          "text": [
            "/usr/local/lib/python3.6/dist-packages/sklearn/svm/base.py:196: FutureWarning: The default value of gamma will change from 'auto' to 'scale' in version 0.22 to account better for unscaled features. Set gamma explicitly to 'auto' or 'scale' to avoid this warning.\n",
            "  \"avoid this warning.\", FutureWarning)\n"
          ],
          "name": "stderr"
        }
      ]
    },
    {
      "cell_type": "markdown",
      "metadata": {
        "id": "1N4Cbo1KQDWd",
        "colab_type": "text"
      },
      "source": [
        "Cofusion Matrix"
      ]
    },
    {
      "cell_type": "code",
      "metadata": {
        "id": "3GrqLjWNPWbB",
        "colab_type": "code",
        "colab": {
          "base_uri": "https://localhost:8080/",
          "height": 85
        },
        "outputId": "70b82e07-4e4b-42f6-dbcf-952d946cbcfc"
      },
      "source": [
        "Y_predict_SVM = svc_clf.predict(X_test)\n",
        "cnfmatrix_SVM = confusion_matrix(Y_test,Y_predict_SVM)\n",
        "print(cnfmatrix_SVM)"
      ],
      "execution_count": 11,
      "outputs": [
        {
          "output_type": "stream",
          "text": [
            "[[14  0  0  0]\n",
            " [ 0  8  0  0]\n",
            " [ 0  0  9  0]\n",
            " [ 0  0  0  9]]\n"
          ],
          "name": "stdout"
        }
      ]
    },
    {
      "cell_type": "markdown",
      "metadata": {
        "id": "D6uznyX0HaZ7",
        "colab_type": "text"
      },
      "source": [
        "# * K Nearst Neigbors Classifier"
      ]
    },
    {
      "cell_type": "code",
      "metadata": {
        "id": "a62kFAGoHfel",
        "colab_type": "code",
        "outputId": "cfcd6bd5-cc86-48b1-fa45-09dd4901fb7b",
        "colab": {
          "base_uri": "https://localhost:8080/",
          "height": 34
        }
      },
      "source": [
        "knn_clf = KNeighborsClassifier()\n",
        "knn_clf.fit(X_train,Y_train)\n",
        "print(\"The accuracy of the knn classifier is: {}\".format( knn_clf.score(X_test,Y_test) ) )"
      ],
      "execution_count": 13,
      "outputs": [
        {
          "output_type": "stream",
          "text": [
            "The accuracy of the knn classifier is: 1.0\n"
          ],
          "name": "stdout"
        }
      ]
    },
    {
      "cell_type": "markdown",
      "metadata": {
        "id": "XUgYTsItQIHm",
        "colab_type": "text"
      },
      "source": [
        "Confusion matrix"
      ]
    },
    {
      "cell_type": "code",
      "metadata": {
        "id": "wSe89Y0QQXqH",
        "colab_type": "code",
        "colab": {
          "base_uri": "https://localhost:8080/",
          "height": 85
        },
        "outputId": "df475947-4477-41d3-b3ac-2d1c2687bf31"
      },
      "source": [
        "Y_predict_KNN = knn_clf.predict(X_test)\n",
        "cnfmatrix_KNN = confusion_matrix(Y_test,Y_predict_KNN)\n",
        "print(cnfmatrix_KNN)"
      ],
      "execution_count": 14,
      "outputs": [
        {
          "output_type": "stream",
          "text": [
            "[[14  0  0  0]\n",
            " [ 0  8  0  0]\n",
            " [ 0  0  9  0]\n",
            " [ 0  0  0  9]]\n"
          ],
          "name": "stdout"
        }
      ]
    },
    {
      "cell_type": "markdown",
      "metadata": {
        "id": "uCEuay9rHjLA",
        "colab_type": "text"
      },
      "source": [
        "\n",
        "# * Decision Tree"
      ]
    },
    {
      "cell_type": "code",
      "metadata": {
        "id": "bMLXGW1aHimk",
        "colab_type": "code",
        "outputId": "0b8876c3-17fe-4661-e477-efa0839ebaa6",
        "colab": {
          "base_uri": "https://localhost:8080/",
          "height": 34
        }
      },
      "source": [
        "tree_clf = DecisionTreeClassifier()\n",
        "tree_clf.fit(X_train,Y_train)\n",
        "print(\"The accuracy of the tree classifier is: {}\".format( tree_clf.score(X_test,Y_test) ) )\n"
      ],
      "execution_count": 16,
      "outputs": [
        {
          "output_type": "stream",
          "text": [
            "The accuracy of the tree classifier is: 1.0\n"
          ],
          "name": "stdout"
        }
      ]
    },
    {
      "cell_type": "markdown",
      "metadata": {
        "id": "CNhS1corQwjx",
        "colab_type": "text"
      },
      "source": [
        "Confusion matrix"
      ]
    },
    {
      "cell_type": "code",
      "metadata": {
        "id": "V2xdVa6jQ3d7",
        "colab_type": "code",
        "colab": {
          "base_uri": "https://localhost:8080/",
          "height": 85
        },
        "outputId": "188461ff-5391-4c3e-f21d-3bc7496a588a"
      },
      "source": [
        "Y_predict_tree = tree_clf.predict(X_test)\n",
        "cnfmatrix_tree = confusion_matrix(Y_test,Y_predict_tree)\n",
        "print(cnfmatrix_tree)"
      ],
      "execution_count": 17,
      "outputs": [
        {
          "output_type": "stream",
          "text": [
            "[[14  0  0  0]\n",
            " [ 0  8  0  0]\n",
            " [ 0  0  9  0]\n",
            " [ 0  0  0  9]]\n"
          ],
          "name": "stdout"
        }
      ]
    },
    {
      "cell_type": "markdown",
      "metadata": {
        "id": "rjdEEQUWIrPD",
        "colab_type": "text"
      },
      "source": [
        "# * SGD"
      ]
    },
    {
      "cell_type": "code",
      "metadata": {
        "id": "f00cHVqMIsuu",
        "colab_type": "code",
        "outputId": "7392295d-161e-4e85-94b5-97e00473eac6",
        "colab": {
          "base_uri": "https://localhost:8080/",
          "height": 306
        }
      },
      "source": [
        "sgd_clf = SGDClassifier(max_iter=10, tol=.1)\n",
        "sgd_clf.fit(X_train,Y_train)\n",
        "print(\"The accurace of the SGD classifier is: {}\".format( sgd_clf.score(X_test,Y_test) ) )\n",
        "print(\"The coeeficients of the best fit are: {} and the intercept is:{} \".format( sgd_clf.coef_, sgd_clf.intercept_ ) )"
      ],
      "execution_count": 18,
      "outputs": [
        {
          "output_type": "stream",
          "text": [
            "The accurace of the SGD classifier is: 1.0\n",
            "The coeeficients of the best fit are: [[ 1.51374353e+02  2.32113612e+02  9.72049624e+01 -5.12916245e+01\n",
            "   1.16154721e+02  1.89319990e+02  1.64035207e+01 -1.15317195e+02\n",
            "  -6.12628985e+01 -1.84415980e+02  3.22860840e+01 -1.45298363e+01\n",
            "  -1.39330681e+01 -4.16304699e+01 -1.98328203e+01  2.72807251e+01]\n",
            " [-3.24857240e+02  3.01415507e+01 -5.31322805e+00  2.32019916e+02\n",
            "  -1.57471910e+02 -1.19165513e+01  3.98150143e+01 -7.56349757e+00\n",
            "  -1.14893530e+02 -9.13273532e+01 -7.57013806e+01  3.10043799e+02\n",
            "  -1.64790977e+02  9.17835517e+00 -1.60390204e+02 -4.69697716e+01]\n",
            " [ 1.39678883e+02 -1.57166777e+02  2.97898550e+01  3.33514764e+01\n",
            "   1.24681669e+01 -4.60722807e+02  8.59942075e+01  2.18492101e+02\n",
            "   3.29396582e+01  1.28396569e+02 -6.06245318e-02 -4.59417737e+00\n",
            "  -3.20887354e+01 -1.41522420e-01  1.28621356e+02 -1.20039942e+02]\n",
            " [-1.82840351e+02 -1.48709049e+02 -4.16213038e+01 -1.30561900e+02\n",
            "  -9.03447476e+01  1.24398228e+02 -2.27637877e+01 -5.79589974e+00\n",
            "   7.69694073e+01  1.41669673e+02  4.33425169e+01 -4.06787364e+02\n",
            "   1.86941709e+02 -5.90602066e+01  1.74416628e+02 -9.86942101e+00]] and the intercept is:[-136.84647846 -248.00935223 -225.50439531 -268.62076109] \n"
          ],
          "name": "stdout"
        }
      ]
    },
    {
      "cell_type": "markdown",
      "metadata": {
        "id": "fApKfHJRRAHh",
        "colab_type": "text"
      },
      "source": [
        "Confusion matrix"
      ]
    },
    {
      "cell_type": "code",
      "metadata": {
        "id": "BJY9A_gORGJ5",
        "colab_type": "code",
        "colab": {
          "base_uri": "https://localhost:8080/",
          "height": 85
        },
        "outputId": "708618a6-1cf9-440b-f4d0-ec7cd96c380f"
      },
      "source": [
        "Y_predict_sgd = sgd_clf.predict(X_test)\n",
        "cnfmatrix_sgd = confusion_matrix(Y_test,Y_predict_tree)\n",
        "print(cnfmatrix_sgd)"
      ],
      "execution_count": 19,
      "outputs": [
        {
          "output_type": "stream",
          "text": [
            "[[14  0  0  0]\n",
            " [ 0  8  0  0]\n",
            " [ 0  0  9  0]\n",
            " [ 0  0  0  9]]\n"
          ],
          "name": "stdout"
        }
      ]
    },
    {
      "cell_type": "markdown",
      "metadata": {
        "id": "nCnQkzvmIxKP",
        "colab_type": "text"
      },
      "source": [
        "# * Bayes"
      ]
    },
    {
      "cell_type": "code",
      "metadata": {
        "id": "e9qLdHBGIwgB",
        "colab_type": "code",
        "outputId": "76366325-582e-4e91-f184-15f2067e21c5",
        "colab": {
          "base_uri": "https://localhost:8080/",
          "height": 34
        }
      },
      "source": [
        "nb_clf = GaussianNB()\n",
        "nb_clf.fit(X_train,Y_train)\n",
        "print(\"The accuracy of the knn classifier is: {}\".format( nb_clf.score(X_test,Y_test) ) )"
      ],
      "execution_count": 21,
      "outputs": [
        {
          "output_type": "stream",
          "text": [
            "The accuracy of the knn classifier is: 1.0\n"
          ],
          "name": "stdout"
        }
      ]
    },
    {
      "cell_type": "markdown",
      "metadata": {
        "id": "vKvwDoFURQ52",
        "colab_type": "text"
      },
      "source": [
        "Confusion matrix"
      ]
    },
    {
      "cell_type": "code",
      "metadata": {
        "id": "fDPT0yuiRUoU",
        "colab_type": "code",
        "colab": {
          "base_uri": "https://localhost:8080/",
          "height": 85
        },
        "outputId": "d4ca1758-787a-4e47-f355-f51c92035220"
      },
      "source": [
        "Y_predict_nb = nb_clf.predict(X_test)\n",
        "cnfmatrix_nb = confusion_matrix(Y_test,Y_predict_tree)\n",
        "print(cnfmatrix_nb)"
      ],
      "execution_count": 22,
      "outputs": [
        {
          "output_type": "stream",
          "text": [
            "[[14  0  0  0]\n",
            " [ 0  8  0  0]\n",
            " [ 0  0  9  0]\n",
            " [ 0  0  0  9]]\n"
          ],
          "name": "stdout"
        }
      ]
    }
  ]
}