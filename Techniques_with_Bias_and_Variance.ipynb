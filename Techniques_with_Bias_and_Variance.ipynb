{
  "nbformat": 4,
  "nbformat_minor": 0,
  "metadata": {
    "colab": {
      "name": "Techniques_with_Bias_and_Variance.ipynb",
      "version": "0.3.2",
      "provenance": [],
      "include_colab_link": true
    },
    "kernelspec": {
      "name": "python3",
      "display_name": "Python 3"
    }
  },
  "cells": [
    {
      "cell_type": "markdown",
      "metadata": {
        "id": "view-in-github",
        "colab_type": "text"
      },
      "source": [
        "<a href=\"https://colab.research.google.com/github/alifele/Neuro_Science/blob/master/Techniques_with_Bias_and_Variance.ipynb\" target=\"_parent\"><img src=\"https://colab.research.google.com/assets/colab-badge.svg\" alt=\"Open In Colab\"/></a>"
      ]
    },
    {
      "cell_type": "markdown",
      "metadata": {
        "id": "7KaWnb8CvRXy",
        "colab_type": "text"
      },
      "source": [
        "# Learning Techniques with Bias and Variance Curve"
      ]
    },
    {
      "cell_type": "markdown",
      "metadata": {
        "id": "fod5SXdZvfAU",
        "colab_type": "text"
      },
      "source": [
        "in this note book i am going to implement some machine learning techniques to classify our neuron networks in 4 different classes"
      ]
    },
    {
      "cell_type": "code",
      "metadata": {
        "id": "STnkcqYyveZ9",
        "colab_type": "code",
        "colab": {}
      },
      "source": [
        "import numpy as np\n",
        "import matplotlib.pyplot as plt\n",
        "import requests\n",
        "import io\n",
        "from tempfile import TemporaryFile"
      ],
      "execution_count": 0,
      "outputs": []
    },
    {
      "cell_type": "markdown",
      "metadata": {
        "id": "3HYnjAdYx0P1",
        "colab_type": "text"
      },
      "source": [
        "# Importing Data\n",
        "\n",
        "the data that I am using throght out this note book are the ones that their features has reduced to 16 under PCA method (you can find additional information and relevant notebook on the repository of the project)"
      ]
    },
    {
      "cell_type": "code",
      "metadata": {
        "id": "znq1H5Paxzp8",
        "colab_type": "code",
        "colab": {
          "base_uri": "https://localhost:8080/",
          "height": 85
        },
        "outputId": "52a01849-5dbd-4c25-9eab-6bd3ca3dee20"
      },
      "source": [
        "!pip install -q xlrd\n",
        "!git clone https://github.com/alifele/Neuro_Science.git\n",
        "!ls Neuro_Science\n",
        "data = np.load('Neuro_Science/DataSet_with_Label.npz')"
      ],
      "execution_count": 16,
      "outputs": [
        {
          "output_type": "stream",
          "text": [
            "fatal: destination path 'Neuro_Science' already exists and is not an empty directory.\n",
            "Data.npy\t\tNeuro_PCA.ipynb\n",
            "DataSet_with_Label.npz\tREADME.md\n",
            "IF_data.npz\t\tTechniques_with_Bias_and_Variance.ipynb\n"
          ],
          "name": "stdout"
        }
      ]
    },
    {
      "cell_type": "code",
      "metadata": {
        "id": "2PEuZDZp_MTN",
        "colab_type": "code",
        "colab": {
          "base_uri": "https://localhost:8080/",
          "height": 68
        },
        "outputId": "b4d02717-170f-4a44-d57a-3b8adbeb6285"
      },
      "source": [
        "print(data.files)\n",
        "DataSet = data['DataSet']\n",
        "Label = data['Label']\n",
        "print(DataSet.shape)\n",
        "print(Label.shape)"
      ],
      "execution_count": 19,
      "outputs": [
        {
          "output_type": "stream",
          "text": [
            "['DataSet', 'Label']\n",
            "(160, 16)\n",
            "(160,)\n"
          ],
          "name": "stdout"
        }
      ]
    },
    {
      "cell_type": "markdown",
      "metadata": {
        "id": "cM3aIngZCEIZ",
        "colab_type": "text"
      },
      "source": [
        "# Implementing Machine Learning Classification Algorithms"
      ]
    },
    {
      "cell_type": "code",
      "metadata": {
        "id": "9kQwJjhKBzq7",
        "colab_type": "code",
        "colab": {}
      },
      "source": [
        ""
      ],
      "execution_count": 0,
      "outputs": []
    }
  ]
}