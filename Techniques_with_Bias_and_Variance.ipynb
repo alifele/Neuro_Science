{
  "nbformat": 4,
  "nbformat_minor": 0,
  "metadata": {
    "colab": {
      "name": "Techniques_with_Bias_and_Variance.ipynb",
      "version": "0.3.2",
      "provenance": [],
      "include_colab_link": true
    },
    "kernelspec": {
      "name": "python3",
      "display_name": "Python 3"
    }
  },
  "cells": [
    {
      "cell_type": "markdown",
      "metadata": {
        "id": "view-in-github",
        "colab_type": "text"
      },
      "source": [
        "<a href=\"https://colab.research.google.com/github/alifele/Neuro_Science/blob/master/Techniques_with_Bias_and_Variance.ipynb\" target=\"_parent\"><img src=\"https://colab.research.google.com/assets/colab-badge.svg\" alt=\"Open In Colab\"/></a>"
      ]
    },
    {
      "cell_type": "markdown",
      "metadata": {
        "id": "7KaWnb8CvRXy",
        "colab_type": "text"
      },
      "source": [
        "# Learning Techniques with Bias and Variance Curve"
      ]
    },
    {
      "cell_type": "markdown",
      "metadata": {
        "id": "fod5SXdZvfAU",
        "colab_type": "text"
      },
      "source": [
        "in this note book i am going to implement some machine learning techniques to classify our neuron networks in 4 different classes"
      ]
    },
    {
      "cell_type": "code",
      "metadata": {
        "id": "STnkcqYyveZ9",
        "colab_type": "code",
        "colab": {}
      },
      "source": [
        "import numpy as np\n",
        "import matplotlib.pyplot as plt\n",
        "import requests\n",
        "import io\n",
        "from tempfile import TemporaryFile"
      ],
      "execution_count": 0,
      "outputs": []
    },
    {
      "cell_type": "markdown",
      "metadata": {
        "id": "3HYnjAdYx0P1",
        "colab_type": "text"
      },
      "source": [
        "# Importing Data\n",
        "\n",
        "the data that I am using throght out this note book are the ones that their features has reduced to 16 under PCA method (you can find additional information and relevant notebook on the repository of the project)"
      ]
    },
    {
      "cell_type": "code",
      "metadata": {
        "id": "znq1H5Paxzp8",
        "colab_type": "code",
        "colab": {
          "base_uri": "https://localhost:8080/",
          "height": 85
        },
        "outputId": "2e436326-bc30-4a9b-c2e1-e35f364af535"
      },
      "source": [
        "!pip install -q xlrd\n",
        "!git clone https://github.com/alifele/Neuro_Science.git\n",
        "!ls Neuro_Science\n",
        "data = np.load('Neuro_Science/DataSet_with_Label.npz')"
      ],
      "execution_count": 16,
      "outputs": [
        {
          "output_type": "stream",
          "text": [
            "fatal: destination path 'Neuro_Science' already exists and is not an empty directory.\n",
            "Data.npy\t\tNeuro_PCA.ipynb\n",
            "DataSet_with_Label.npz\tREADME.md\n",
            "IF_data.npz\t\tTechniques_with_Bias_and_Variance.ipynb\n"
          ],
          "name": "stdout"
        }
      ]
    },
    {
      "cell_type": "code",
      "metadata": {
        "id": "2PEuZDZp_MTN",
        "colab_type": "code",
        "colab": {
          "base_uri": "https://localhost:8080/",
          "height": 68
        },
        "outputId": "3410ac74-726a-47e1-e074-8d56a87c3991"
      },
      "source": [
        "print(data.files)\n",
        "DataSet = data['DataSet']\n",
        "Label = data['Label']\n",
        "print(DataSet.shape)\n",
        "print(Label.shape)"
      ],
      "execution_count": 17,
      "outputs": [
        {
          "output_type": "stream",
          "text": [
            "['DataSet', 'Label']\n",
            "(160, 16)\n",
            "(160,)\n"
          ],
          "name": "stdout"
        }
      ]
    },
    {
      "cell_type": "markdown",
      "metadata": {
        "id": "JUaZ9lZqD9rL",
        "colab_type": "text"
      },
      "source": [
        "# Data Preparation"
      ]
    },
    {
      "cell_type": "code",
      "metadata": {
        "id": "uHf7NqPmEEJO",
        "colab_type": "code",
        "colab": {}
      },
      "source": [
        "from sklearn.model_selection import train_test_split\n",
        "X_train, X_test, Y_train, Y_test = train_test_split(DataSet, Label, shuffle=True)"
      ],
      "execution_count": 0,
      "outputs": []
    },
    {
      "cell_type": "markdown",
      "metadata": {
        "id": "cM3aIngZCEIZ",
        "colab_type": "text"
      },
      "source": [
        "# Implementing Machine Learning Classification Algorithms"
      ]
    },
    {
      "cell_type": "code",
      "metadata": {
        "id": "37oqg4FgKV6L",
        "colab_type": "code",
        "colab": {}
      },
      "source": [
        "from sklearn import svm\n",
        "from sklearn.model_selection import train_test_split\n",
        "from sklearn.preprocessing import StandardScaler\n",
        "from sklearn.linear_model import SGDClassifier\n",
        "from sklearn.svm import SVC\n",
        "from sklearn.tree import DecisionTreeClassifier\n",
        "from sklearn.neighbors import KNeighborsClassifier\n",
        "from sklearn.naive_bayes import GaussianNB\n"
      ],
      "execution_count": 0,
      "outputs": []
    },
    {
      "cell_type": "markdown",
      "metadata": {
        "id": "JOE-XKjrHMtD",
        "colab_type": "text"
      },
      "source": [
        "# * Support Vector Machine Classifier"
      ]
    },
    {
      "cell_type": "code",
      "metadata": {
        "id": "rI3urz20HXVe",
        "colab_type": "code",
        "colab": {
          "base_uri": "https://localhost:8080/",
          "height": 88
        },
        "outputId": "ad0def3e-e33f-4c66-9e40-a7d843718ce4"
      },
      "source": [
        "svc_clf = SVC()\n",
        "svc_clf.fit(X_train,Y_train)\n",
        "print(\"The accurace of the SVM classifier is: {}\".format( svc_clf.score(X_test,Y_test) ) )\n",
        "# print(\"The coeeficients of the best fit are: {} and the intercept is:{} \".format( svc_clf.coef_, svc_clf.intercept_ ) )"
      ],
      "execution_count": 20,
      "outputs": [
        {
          "output_type": "stream",
          "text": [
            "The accurace of the SVM classifier is: 1.0\n"
          ],
          "name": "stdout"
        },
        {
          "output_type": "stream",
          "text": [
            "/usr/local/lib/python3.6/dist-packages/sklearn/svm/base.py:196: FutureWarning: The default value of gamma will change from 'auto' to 'scale' in version 0.22 to account better for unscaled features. Set gamma explicitly to 'auto' or 'scale' to avoid this warning.\n",
            "  \"avoid this warning.\", FutureWarning)\n"
          ],
          "name": "stderr"
        }
      ]
    },
    {
      "cell_type": "markdown",
      "metadata": {
        "id": "D6uznyX0HaZ7",
        "colab_type": "text"
      },
      "source": [
        "# * K Nearst Neigbors Classifier"
      ]
    },
    {
      "cell_type": "code",
      "metadata": {
        "id": "a62kFAGoHfel",
        "colab_type": "code",
        "colab": {
          "base_uri": "https://localhost:8080/",
          "height": 34
        },
        "outputId": "c9ba8af8-1afe-4a21-8371-6cdf8ea94e1b"
      },
      "source": [
        "knn_clf = KNeighborsClassifier()\n",
        "knn_clf.fit(X_train,Y_train)\n",
        "print(\"The accuracy of the knn classifier is: {}\".format( knn_clf.score(X_test,Y_test) ) )"
      ],
      "execution_count": 21,
      "outputs": [
        {
          "output_type": "stream",
          "text": [
            "The accuracy of the knn classifier is: 1.0\n"
          ],
          "name": "stdout"
        }
      ]
    },
    {
      "cell_type": "markdown",
      "metadata": {
        "id": "uCEuay9rHjLA",
        "colab_type": "text"
      },
      "source": [
        "\n",
        "# * Decision Tree"
      ]
    },
    {
      "cell_type": "code",
      "metadata": {
        "id": "bMLXGW1aHimk",
        "colab_type": "code",
        "colab": {
          "base_uri": "https://localhost:8080/",
          "height": 34
        },
        "outputId": "6907d9c2-1b91-46d8-8cad-d115b188ee91"
      },
      "source": [
        "tree_clf = DecisionTreeClassifier()\n",
        "tree_clf.fit(X_train,Y_train)\n",
        "print(\"The accuracy of the tree classifier is: {}\".format( tree_clf.score(X_test,Y_test) ) )\n"
      ],
      "execution_count": 22,
      "outputs": [
        {
          "output_type": "stream",
          "text": [
            "The accuracy of the tree classifier is: 1.0\n"
          ],
          "name": "stdout"
        }
      ]
    },
    {
      "cell_type": "markdown",
      "metadata": {
        "id": "rjdEEQUWIrPD",
        "colab_type": "text"
      },
      "source": [
        "# * SGD"
      ]
    },
    {
      "cell_type": "code",
      "metadata": {
        "id": "f00cHVqMIsuu",
        "colab_type": "code",
        "colab": {
          "base_uri": "https://localhost:8080/",
          "height": 306
        },
        "outputId": "83b3c95e-3f36-4946-abaf-4cc42d7269b7"
      },
      "source": [
        "sgd_clf = SGDClassifier(max_iter=10, tol=.1)\n",
        "sgd_clf.fit(X_train,Y_train)\n",
        "print(\"The accurace of the SGD classifier is: {}\".format( sgd_clf.score(X_test,Y_test) ) )\n",
        "print(\"The coeeficients of the best fit are: {} and the intercept is:{} \".format( sgd_clf.coef_, sgd_clf.intercept_ ) )"
      ],
      "execution_count": 23,
      "outputs": [
        {
          "output_type": "stream",
          "text": [
            "The accurace of the SGD classifier is: 1.0\n",
            "The coeeficients of the best fit are: [[ 1.77643726e+02  2.29701675e+02  9.55805363e+01 -5.52420710e+01\n",
            "   8.59056567e+01  2.14912502e+02  4.35191581e+01 -1.24668998e+02\n",
            "  -7.53449806e+01 -1.85087669e+02  5.39609743e+01 -2.58514507e+01\n",
            "   1.55462447e+01 -3.11987250e+01 -4.05072600e+00 -2.16770698e+01]\n",
            " [-2.83870842e+02 -1.31395623e+02  6.87598813e+01  2.43123874e+02\n",
            "  -1.00796330e+02  1.00602165e+02 -1.28000446e+02 -3.83596734e+01\n",
            "  -1.19256536e+01 -5.65984170e+01 -5.34565343e+01  3.92193908e+02\n",
            "  -1.32882530e+02 -2.51854304e-01 -1.49984145e+02 -3.38067926e+01]\n",
            " [ 1.38759732e+02 -1.48292461e+02  5.30936586e+01  4.56026585e+01\n",
            "   1.71768193e+01 -4.73419276e+02  6.97806178e+01  2.06841465e+02\n",
            "   7.26509456e+01  1.10323475e+02 -1.92727342e+01 -4.75682017e+00\n",
            "  -2.52411273e+01 -8.01828747e+00  1.05962525e+02 -4.04357630e+01]\n",
            " [-2.05271756e+02 -1.25536045e+02 -9.34873335e+01 -1.68654116e+02\n",
            "   7.08195209e+01  1.01295205e+02 -5.05022546e+01 -7.47961524e+01\n",
            "   1.06869903e+02  1.30177510e+02  3.37654469e+01 -4.27872955e+02\n",
            "   2.24099165e+02 -6.75561699e+01  1.92756270e+02  4.68966095e+01]] and the intercept is:[-136.64237861 -163.18031702 -224.82162952 -257.45016439] \n"
          ],
          "name": "stdout"
        }
      ]
    },
    {
      "cell_type": "markdown",
      "metadata": {
        "id": "nCnQkzvmIxKP",
        "colab_type": "text"
      },
      "source": [
        "# * Bayes"
      ]
    },
    {
      "cell_type": "code",
      "metadata": {
        "id": "e9qLdHBGIwgB",
        "colab_type": "code",
        "colab": {
          "base_uri": "https://localhost:8080/",
          "height": 34
        },
        "outputId": "8a357119-ee5e-4545-ff29-ca216fd69801"
      },
      "source": [
        "nb_clf = GaussianNB()\n",
        "nb_clf.fit(X_train,Y_train)\n",
        "print(\"The accuracy of the knn classifier is: {}\".format( nb_clf.score(X_test,Y_test) ) )"
      ],
      "execution_count": 24,
      "outputs": [
        {
          "output_type": "stream",
          "text": [
            "The accuracy of the knn classifier is: 1.0\n"
          ],
          "name": "stdout"
        }
      ]
    }
  ]
}